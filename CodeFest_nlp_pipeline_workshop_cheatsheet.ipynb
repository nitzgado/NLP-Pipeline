{
  "nbformat": 4,
  "nbformat_minor": 0,
  "metadata": {
    "colab": {
      "name": "CodeFest nlp pipeline workshop cheatsheet.ipynb",
      "provenance": [],
      "collapsed_sections": [],
      "toc_visible": true
    },
    "kernelspec": {
      "name": "python3",
      "display_name": "Python 3"
    },
    "language_info": {
      "name": "python"
    }
  },
  "cells": [
    {
      "cell_type": "markdown",
      "metadata": {
        "id": "v4TIt_DzeH_A"
      },
      "source": [
        "# Importing :)"
      ]
    },
    {
      "cell_type": "code",
      "metadata": {
        "id": "nEqnwyPheGwm"
      },
      "source": [
        "import pandas as pd\n",
        "import string\n",
        "\n",
        "import matplotlib.pyplot as plt\n",
        "from wordcloud import WordCloud, STOPWORDS\n",
        "from sklearn.feature_extraction.text import CountVectorizer\n",
        "from sklearn.feature_extraction.text import TfidfVectorizer\n",
        "import nltk\n",
        "nltk.download('wordnet')\n",
        "from nltk.stem import WordNetLemmatizer\n",
        "from sklearn.naive_bayes import MultinomialNB\n",
        "from sklearn.tree import DecisionTreeClassifier\n",
        "from sklearn.model_selection import train_test_split\n",
        "from sklearn.metrics import confusion_matrix\n",
        "from sklearn.metrics import classification_report\n",
        "\n",
        "\n"
      ],
      "execution_count": null,
      "outputs": []
    },
    {
      "cell_type": "markdown",
      "metadata": {
        "id": "bU723X5cg54i"
      },
      "source": [
        "\n",
        "\n",
        "\n",
        "# getting the data:\n",
        "\n",
        "\n"
      ]
    },
    {
      "cell_type": "code",
      "metadata": {
        "id": "z98XCx-pVPwR"
      },
      "source": [
        "from google.colab import drive\n",
        "drive.mount('/content/drive')"
      ],
      "execution_count": null,
      "outputs": []
    },
    {
      "cell_type": "code",
      "metadata": {
        "id": "p7qt8OP2mq0u"
      },
      "source": [
        "movies_data = pd.read_csv(\"drive/My Drive/movies_genres_and_description.csv\")"
      ],
      "execution_count": null,
      "outputs": []
    },
    {
      "cell_type": "code",
      "metadata": {
        "id": "uJSUXkHPmy9C"
      },
      "source": [
        "movies_data.head()"
      ],
      "execution_count": null,
      "outputs": []
    },
    {
      "cell_type": "markdown",
      "metadata": {
        "id": "5kOt1zJ5a0jD"
      },
      "source": [
        "# Exploring the data"
      ]
    },
    {
      "cell_type": "markdown",
      "metadata": {
        "id": "-x64DyVXbHtz"
      },
      "source": [
        "What do overviews look like?"
      ]
    },
    {
      "cell_type": "code",
      "metadata": {
        "id": "yWs-5ymWbGis"
      },
      "source": [
        "movies_data.overview.loc[0]"
      ],
      "execution_count": null,
      "outputs": []
    },
    {
      "cell_type": "code",
      "metadata": {
        "id": "5qGL3y62bXra"
      },
      "source": [
        "movies_data.overview.loc[1]"
      ],
      "execution_count": null,
      "outputs": []
    },
    {
      "cell_type": "markdown",
      "metadata": {
        "id": "I9PJk3Adb0dl"
      },
      "source": [
        "How long are the overviews? The longest overview? Shortest overview?\n"
      ]
    },
    {
      "cell_type": "code",
      "metadata": {
        "id": "AvAuGc6_cweZ"
      },
      "source": [
        "movies_data.dropna( inplace=True)"
      ],
      "execution_count": null,
      "outputs": []
    },
    {
      "cell_type": "code",
      "metadata": {
        "id": "a_022l3o_2Rs"
      },
      "source": [
        "movies_data['overview_length'] = movies_data.overview.apply(len)"
      ],
      "execution_count": null,
      "outputs": []
    },
    {
      "cell_type": "code",
      "metadata": {
        "id": "sad6CHzmcNM4"
      },
      "source": [
        "movies_data['overview_length'].mean()"
      ],
      "execution_count": null,
      "outputs": []
    },
    {
      "cell_type": "code",
      "metadata": {
        "id": "YfoC7E9fdYHQ"
      },
      "source": [
        "movies_data['overview_length'].min()"
      ],
      "execution_count": null,
      "outputs": []
    },
    {
      "cell_type": "code",
      "metadata": {
        "id": "wHhLrACHdbM-"
      },
      "source": [
        "movies_data['overview_length'].max()"
      ],
      "execution_count": null,
      "outputs": []
    },
    {
      "cell_type": "code",
      "metadata": {
        "id": "xq_gzPHuA2nk"
      },
      "source": [
        "movies_data.overview_length.plot.hist()"
      ],
      "execution_count": null,
      "outputs": []
    },
    {
      "cell_type": "markdown",
      "metadata": {
        "id": "NZh8zhLhd231"
      },
      "source": [
        "What are the most frequent words in the overviews? In the overviews of a specific genre?\n"
      ]
    },
    {
      "cell_type": "code",
      "metadata": {
        "id": "5KPgcSYId1vA"
      },
      "source": [
        "text = list(movies_data[movies_data[\"is_drama\"] == True].overview.values)\n",
        "\n",
        "wordcloud = WordCloud(stopwords=STOPWORDS).generate(str(text))\n",
        "\n",
        "plt.imshow(wordcloud)\n",
        "plt.axis(\"off\")\n",
        "plt.show()"
      ],
      "execution_count": null,
      "outputs": []
    },
    {
      "cell_type": "code",
      "metadata": {
        "id": "U3WFuzblCb5G"
      },
      "source": [
        "text = list(movies_data[movies_data[\"is_drama\"] == True].overview.values)\n",
        "text[:10]"
      ],
      "execution_count": null,
      "outputs": []
    },
    {
      "cell_type": "markdown",
      "metadata": {
        "id": "0q1syEM-_R4j"
      },
      "source": [
        "# Cleaning & Preprocessing The Data"
      ]
    },
    {
      "cell_type": "markdown",
      "metadata": {
        "id": "dN1AhviG_Xgh"
      },
      "source": [
        "let's remove all the short descriptions"
      ]
    },
    {
      "cell_type": "code",
      "metadata": {
        "id": "811NDjoe-0iz"
      },
      "source": [
        "movies_data = movies_data.loc[movies_data[\"overview_length\"] > 10]"
      ],
      "execution_count": null,
      "outputs": []
    },
    {
      "cell_type": "code",
      "metadata": {
        "id": "yt80D4wDVGT-"
      },
      "source": [
        "movies_data.overview_length.min()"
      ],
      "execution_count": null,
      "outputs": []
    },
    {
      "cell_type": "markdown",
      "metadata": {
        "id": "wHRxIvJk_gEa"
      },
      "source": [
        "let's remove punctuation\n",
        "\n",
        "\n"
      ]
    },
    {
      "cell_type": "code",
      "metadata": {
        "id": "Lm2ZWGpYVtvO"
      },
      "source": [
        "exclude = set(string.punctuation)\n",
        "def remove_punctoation(row):\n",
        "  row.overview = ''.join(ch for ch in row.overview if ch not in exclude)\n",
        "  return row"
      ],
      "execution_count": null,
      "outputs": []
    },
    {
      "cell_type": "code",
      "metadata": {
        "id": "-GwFT1AuVjhK"
      },
      "source": [
        "movies_data = movies_data.apply(remove_punctoation, axis = 1)"
      ],
      "execution_count": null,
      "outputs": []
    },
    {
      "cell_type": "code",
      "metadata": {
        "id": "K5TCNZXSW1CW"
      },
      "source": [
        "movies_data.head()"
      ],
      "execution_count": null,
      "outputs": []
    },
    {
      "cell_type": "markdown",
      "metadata": {
        "id": "Njf5bLIV5b_T"
      },
      "source": [
        "Lemmatisation"
      ]
    },
    {
      "cell_type": "markdown",
      "metadata": {
        "id": "_1mFxSa6NufP"
      },
      "source": [
        "https://www.geeksforgeeks.org/python-lemmatization-with-nltk/#:~:text=Lemmatization%20is%20the%20process%20of,similar%20meaning%20to%20one%20word."
      ]
    },
    {
      "cell_type": "code",
      "metadata": {
        "id": "2RazF_Bv5tGV"
      },
      "source": [
        "lemmatizer = WordNetLemmatizer()\n",
        "def lemmatize_text(row):\n",
        "  row.overview = \" \".join(lemmatizer.lemmatize(word) for word in row.overview.split())\n",
        "  return row"
      ],
      "execution_count": null,
      "outputs": []
    },
    {
      "cell_type": "code",
      "metadata": {
        "id": "WlqdYGOw8B-a"
      },
      "source": [
        "movies_data = movies_data.apply(lemmatize_text, axis = 1)"
      ],
      "execution_count": null,
      "outputs": []
    },
    {
      "cell_type": "code",
      "metadata": {
        "id": "RfJz2KQx8TRu"
      },
      "source": [
        "movies_data.head()"
      ],
      "execution_count": null,
      "outputs": []
    },
    {
      "cell_type": "markdown",
      "metadata": {
        "id": "I4i_B2dVYMP0"
      },
      "source": [
        "# Converting the data into vectors"
      ]
    },
    {
      "cell_type": "markdown",
      "metadata": {
        "id": "2u1XDqRbZsVW"
      },
      "source": [
        "count vectorizer"
      ]
    },
    {
      "cell_type": "markdown",
      "metadata": {
        "id": "c4iX2XsEb4az"
      },
      "source": [
        "https://scikit-learn.org/stable/modules/generated/sklearn.feature_extraction.text.CountVectorizer.html"
      ]
    },
    {
      "cell_type": "code",
      "metadata": {
        "id": "lCX_Ft45Ylsu"
      },
      "source": [
        "vectorizer = CountVectorizer(lowercase = True, stop_words=STOPWORDS, max_features= 2000)\n",
        "count_vectors = vectorizer.fit_transform(movies_data.overview)"
      ],
      "execution_count": null,
      "outputs": []
    },
    {
      "cell_type": "code",
      "metadata": {
        "id": "d7StJlYzZ5-c"
      },
      "source": [
        "count_vectors.toarray()"
      ],
      "execution_count": null,
      "outputs": []
    },
    {
      "cell_type": "markdown",
      "metadata": {
        "id": "krpKMj4CaqaQ"
      },
      "source": [
        "TFIDF vectorizer"
      ]
    },
    {
      "cell_type": "markdown",
      "metadata": {
        "id": "gUgwP46tb2Eo"
      },
      "source": [
        "https://scikit-learn.org/stable/modules/generated/sklearn.feature_extraction.text.TfidfVectorizer.html"
      ]
    },
    {
      "cell_type": "code",
      "metadata": {
        "id": "aFYrBxLjaNZK"
      },
      "source": [
        "TFIDF_vectorizer = TfidfVectorizer(lowercase = True, stop_words=STOPWORDS, max_features = 2000)\n",
        "tfidf_vectors = TFIDF_vectorizer.fit_transform(movies_data.overview)"
      ],
      "execution_count": null,
      "outputs": []
    },
    {
      "cell_type": "code",
      "metadata": {
        "id": "MAaYRQx3bgRm"
      },
      "source": [
        "tfidf_vectors.toarray()"
      ],
      "execution_count": null,
      "outputs": []
    },
    {
      "cell_type": "markdown",
      "metadata": {
        "id": "d02IxYghCLqZ"
      },
      "source": [
        "# Modeling"
      ]
    },
    {
      "cell_type": "markdown",
      "metadata": {
        "id": "aoMranwlDU9N"
      },
      "source": [
        "Split to Train and Test"
      ]
    },
    {
      "cell_type": "markdown",
      "metadata": {
        "id": "qev5w98MIEUw"
      },
      "source": [
        "https://scikit-learn.org/stable/modules/generated/sklearn.model_selection.train_test_split.html"
      ]
    },
    {
      "cell_type": "code",
      "metadata": {
        "id": "921dU61ok6PR"
      },
      "source": [
        "X_count_train, X_count_test, y_count_train, y_count_test = train_test_split(tfidf_vectors, list(movies_data.is_drama), test_size=0.2, random_state=42)"
      ],
      "execution_count": null,
      "outputs": []
    },
    {
      "cell_type": "code",
      "metadata": {
        "id": "OLdYw-9UDjKJ"
      },
      "source": [
        "X_tfidf_train, X_tfidf_test, y_tfidf_train, y_tfidf_test = train_test_split(tfidf_vectors, list(movies_data.is_drama), test_size=0.2, random_state=42)"
      ],
      "execution_count": null,
      "outputs": []
    },
    {
      "cell_type": "markdown",
      "metadata": {
        "id": "9SU0iWyZDavx"
      },
      "source": [
        "Multinomial naive bayes"
      ]
    },
    {
      "cell_type": "markdown",
      "metadata": {
        "id": "yGlTkJAPIIRD"
      },
      "source": [
        "https://scikit-learn.org/stable/modules/generated/sklearn.naive_bayes.MultinomialNB.html#:~:text=The%20multinomial%20Naive%20Bayes%20classifier,tf%2Didf%20may%20also%20work."
      ]
    },
    {
      "cell_type": "code",
      "metadata": {
        "id": "El-ODEDKCPVf"
      },
      "source": [
        "model = MultinomialNB()\n",
        "model.fit(X_count_train, y_count_train)\n",
        "score_train = model.score(X_count_train, y_count_train)\n",
        "score_test = model.score(X_count_test, y_count_test)\n",
        "print(\"\\nTrain set score:\", score_train)\n",
        "print(\"Test set score:\", score_test)"
      ],
      "execution_count": null,
      "outputs": []
    },
    {
      "cell_type": "code",
      "metadata": {
        "id": "V1TOvYFKLTMj"
      },
      "source": [
        "y_pred = model.predict(X_count_test)"
      ],
      "execution_count": null,
      "outputs": []
    },
    {
      "cell_type": "code",
      "metadata": {
        "id": "4eNlo86kbnbs"
      },
      "source": [
        "dt_model = DecisionTreeClassifier(max_depth=15, random_state=0)\n",
        "dt_model.fit(X_tfidf_train, y_tfidf_train)\n",
        "score_train = dt_model.score(X_tfidf_train, y_tfidf_train)\n",
        "score_test = dt_model.score(X_tfidf_test, y_tfidf_test)\n",
        "print(\"\\nTrain set score:\", score_train)\n",
        "print(\"Test set score:\", score_test)"
      ],
      "execution_count": null,
      "outputs": []
    },
    {
      "cell_type": "code",
      "metadata": {
        "id": "HK1D7-bHdaDN"
      },
      "source": [
        "y_dt_pred = dt_model.predict(X_tfidf_test)"
      ],
      "execution_count": null,
      "outputs": []
    },
    {
      "cell_type": "markdown",
      "metadata": {
        "id": "Xn_JDnkZFt8I"
      },
      "source": [
        "# Evaluating "
      ]
    },
    {
      "cell_type": "markdown",
      "metadata": {
        "id": "pFCBfatALGIo"
      },
      "source": [
        "Confusion matrix"
      ]
    },
    {
      "cell_type": "markdown",
      "metadata": {
        "id": "OrK9YGKvLKjn"
      },
      "source": [
        "https://scikit-learn.org/stable/modules/generated/sklearn.metrics.confusion_matrix.html"
      ]
    },
    {
      "cell_type": "code",
      "metadata": {
        "id": "DJAuqqfaLPJJ"
      },
      "source": [
        "confusion_matrix(y_count_test, y_pred)"
      ],
      "execution_count": null,
      "outputs": []
    },
    {
      "cell_type": "markdown",
      "metadata": {
        "id": "O_4Q_PQmL-x-"
      },
      "source": [
        "Other metrics"
      ]
    },
    {
      "cell_type": "code",
      "metadata": {
        "id": "Q21xuT73SjR6"
      },
      "source": [
        "print(classification_report(y_test, y_pred))"
      ],
      "execution_count": null,
      "outputs": []
    },
    {
      "cell_type": "markdown",
      "metadata": {
        "id": "Yun8FM9OlT5C"
      },
      "source": [
        "# Inference"
      ]
    },
    {
      "cell_type": "code",
      "metadata": {
        "id": "D9s8Wk5fk1c8"
      },
      "source": [
        "inference_l = []\n",
        "# https://www.imdb.com/title/tt6723592/?ref_=hm_inth_tt_i_1\n",
        "Tenet = \"Armed with only one word, Tenet, and fighting for the survival of the entire world, a Protagonist journeys through a twilight world of international espionage on a mission that will unfold in something beyond real time.\"\n",
        "inference_l.append({'original_title': 'Tenet',\n",
        "                     'overview': Tenet,\n",
        "                     'is_drama': False})\n",
        "\n",
        "# https://www.imdb.com/title/tt7772582/?ref_=hm_inth_tt_i_3\n",
        "NRSO = \"A pair of teenage girls in rural Pennsylvania travel to New York City to seek out medical help after an unintended pregnancy.\"\n",
        "inference_l.append({'original_title': 'Never Rarely Sometimes Always',\n",
        "                     'overview': NRSO,\n",
        "                     'is_drama': True})\n",
        "\n",
        "# https://www.imdb.com/title/tt9606374/?ref_=hm_inth_tt_i_4\n",
        "On_the_Rocks = \"A young mother reconnects with her larger-than-life playboy father on an adventure through New York.\"\n",
        "inference_l.append({'original_title': 'On the Rocks',\n",
        "                     'overview': On_the_Rocks,\n",
        "                     'is_drama': True})\n",
        "\n",
        "inference_ds = pd.DataFrame(inference_l)"
      ],
      "execution_count": null,
      "outputs": []
    },
    {
      "cell_type": "code",
      "metadata": {
        "id": "UQCn6kHEcKI0"
      },
      "source": [
        "inference_ds"
      ],
      "execution_count": null,
      "outputs": []
    },
    {
      "cell_type": "code",
      "metadata": {
        "id": "S9Q6dH_UcOWF"
      },
      "source": [
        "inference_ds = inference_ds.apply(remove_punctoation, axis = 1)\n",
        "inference_ds = inference_ds.apply(lemmatize_text, axis = 1)\n",
        "inference_vectors = vectorizer.transform(inference_ds.overview)"
      ],
      "execution_count": null,
      "outputs": []
    },
    {
      "cell_type": "code",
      "metadata": {
        "id": "qhM0hHbScUbc"
      },
      "source": [
        "model.predict(inference_vectors)"
      ],
      "execution_count": null,
      "outputs": []
    },
    {
      "cell_type": "code",
      "metadata": {
        "id": "NUQyXd5oeGwk"
      },
      "source": [
        ""
      ],
      "execution_count": null,
      "outputs": []
    }
  ]
}